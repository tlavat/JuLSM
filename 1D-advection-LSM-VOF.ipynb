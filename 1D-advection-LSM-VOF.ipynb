{
 "cells": [
  {
   "cell_type": "markdown",
   "metadata": {},
   "source": [
    "### 1D advection Level Set Method with reinitialisation"
   ]
  },
  {
   "cell_type": "code",
   "execution_count": 2,
   "metadata": {},
   "outputs": [],
   "source": [
    "using Plots\n",
    "using LinearAlgebra"
   ]
  },
  {
   "cell_type": "markdown",
   "metadata": {},
   "source": [
    "##### Functions"
   ]
  },
  {
   "cell_type": "code",
   "execution_count": 1,
   "metadata": {},
   "outputs": [
    {
     "data": {
      "text/plain": [
       "sign1 (generic function with 1 method)"
      ]
     },
     "execution_count": 1,
     "metadata": {},
     "output_type": "execute_result"
    }
   ],
   "source": [
    "# Initalisation phi\n",
    "function init(x)\n",
    "    -1. + abs(x)\n",
    "end\n",
    "\n",
    "# Forcing term as sin(t)\n",
    "function init2(x)\n",
    "    4.0 * sin(4. *x*pi)\n",
    "end\n",
    "\n",
    "# Periodic boundary conditions\n",
    "function periodic(phi,i)\n",
    "    [phi[i,end]; phi[i,:]; phi[i,1]]\n",
    "end\n",
    "\n",
    "# VOF upwind flux computation \n",
    "function flux(phibc,i,nx,u)\n",
    "    if typeof(u) == Float64\n",
    "        F[i,:] =   0.5*u*(phibc[i,2:nx+2] + phibc[i,1:nx+1])- 0.5*abs(u)*( phibc[i,2:nx+2] - phibc[i,1:nx+1]);\n",
    "        R[i,:] = F[i,2:nx+1] - F[i,1:nx];\n",
    "    elseif typeof(u) == Array{Float64,1}\n",
    "        F[i,:] =   0.5*u[i+1]*(phibc[i,2:nx+2] + phibc[i,1:nx+1])- 0.5*abs(u[i+1])*( phibc[i,2:nx+2] - phibc[i,1:nx+1]);\n",
    "        R[i,:] = F[i,2:nx+1] - F[i,1:nx];\n",
    "    end\n",
    "end\n",
    "\n",
    "# Sign fuction used for reinitialisation of level set function\n",
    "function sign1(x,dx)\n",
    "    x/sqrt(x.^2 +dx^2)\n",
    "end"
   ]
  },
  {
   "cell_type": "markdown",
   "metadata": {},
   "source": [
    "##### Parameters and initialisation"
   ]
  },
  {
   "cell_type": "code",
   "execution_count": 3,
   "metadata": {},
   "outputs": [],
   "source": [
    "nt = 1000\n",
    "nx = 100\n",
    "Tmax = 5.\n",
    "Xmax = 2.\n",
    "dt = Tmax/nt\n",
    "dx = 2*Xmax/nx\n",
    "x = -Xmax:dx:Xmax;\n",
    "\n",
    "xmid = 0.5*(x[1:nx] + x[2:nx+1])\n",
    "\n",
    "sol = zeros(nt+1,nx)\n",
    "phi = zeros(nt+1,nx)\n",
    "phi2 = zeros(nt+1,nx)\n",
    "phibc = zeros(nt,nx+2) # function without reinitialisation\n",
    "phibc2 = zeros(nt,nx+2)# function with reinitialisation\n",
    "phi0 = zeros(1,nx)\n",
    "err = zeros(1,nt)\n",
    "F = zeros(nt,nx + 1)\n",
    "R = zeros(nt,nx)\n",
    "phi[1,:] = init.(xmid);\n",
    "phi2[1,:] = init.(xmid);\n",
    "tspawn = 0:dt:Tmax;\n",
    "u = init2.(tspawn);"
   ]
  },
  {
   "cell_type": "markdown",
   "metadata": {},
   "source": [
    "##### Main loop"
   ]
  },
  {
   "cell_type": "code",
   "execution_count": 4,
   "metadata": {},
   "outputs": [],
   "source": [
    "for i = 1:nt\n",
    "    # Periodic BC imposed at each time step\n",
    "    phibc[i,:] = periodic(phi,i) \n",
    "    phibc2[i,:] = periodic(phi2,i) \n",
    "    \n",
    "    # Update the level set function\n",
    "    phi[i+1,:] = phi[i,:] - (dt/dx)*flux(phibc,i,nx,u);\n",
    "    phi2[i+1,:] = phi2[i,:] - (dt/dx)*flux(phibc2,i,nx,u);\n",
    "    \n",
    "    # For phi2 we try to reinitialise the level set function at each time step\n",
    "    # grad(Phi)| needs to be normalised to 1\n",
    "    # We iterate over a non-physical time step until \"equilibrium\" is reached for :\n",
    "    # d(phi)/dt = sign(phi) * (1. - |grad(Phi)|)\n",
    "    # from MENARD, 2007 chap 2\n",
    "    a = sign1.(phi2[i+1,:],dx)*(1. - norm(flux(phibc2,i,nx,1.)))\n",
    "    for j = 1:300\n",
    "        if norm(a) > 0.00001\n",
    "            phi2[i+1,:] = phi2[i+1,:] + dt*a\n",
    "            phibc2[i,:] = periodic(phi2,i)\n",
    "            a = sign1.(phi2[i+1,:],dx)*(1. - norm(flux(phibc2,i,nx,1.)))\n",
    "        end\n",
    "    end\n",
    "    \n",
    "end"
   ]
  },
  {
   "cell_type": "markdown",
   "metadata": {},
   "source": [
    "##### Post-processing"
   ]
  },
  {
   "cell_type": "code",
   "execution_count": 6,
   "metadata": {},
   "outputs": [
    {
     "name": "stderr",
     "output_type": "stream",
     "text": [
      "┌ Info: Saved animation to \n",
      "│   fn = /Users/tomas/PhD/2019-2020/julia/JuLSM/1D-LSM-sin.gif\n",
      "└ @ Plots /Users/tomas/.julia/packages/Plots/Iuc9S/src/animation.jl:95\n"
     ]
    }
   ],
   "source": [
    "# The intersection of phi with the x axis represents the 1D interface.\n",
    "# phi < 0 inside\n",
    "# phi > 0 outside\n",
    "# Non-reinitialised and reinitialised solutions are plotted for a sin(t) forcing term\n",
    "# Exibits the numerical diffusion of the first order differencing scheme.\n",
    "\n",
    "anim = @animate for i=1:500\n",
    "    plot(xmid,[phi[i,:],phi2[i,:],phi0[1,:],phi[1,:]], ylims = (-2,3), label=[\"No Reinit\" \"Reinit\" \"\" \"Initial\" ],lw=2)\n",
    "end\n",
    "gif(anim, \"/Users/tomas/PhD/2019-2020/julia/JuLSM/1D-LSM-sin.gif\", fps = 10);\n",
    "\n",
    "#plot(xmid,[phi[end,:],phi2[end,:],phi0[1,:],phi[1,:]], ylims = (-2,3), label=[\"No Reinit\" \"Reinit\" \"\" \"Initial\" ],title = \"t = 5\",lw=2)\n",
    "#savefig(\"/Users/tomas/PhD/2019-2020/julia/JuLSM/Phi1D_t5.png\")"
   ]
  },
  {
   "cell_type": "code",
   "execution_count": null,
   "metadata": {},
   "outputs": [],
   "source": []
  }
 ],
 "metadata": {
  "kernelspec": {
   "display_name": "Julia 1.2.0",
   "language": "julia",
   "name": "julia-1.2"
  },
  "language_info": {
   "file_extension": ".jl",
   "mimetype": "application/julia",
   "name": "julia",
   "version": "1.2.0"
  }
 },
 "nbformat": 4,
 "nbformat_minor": 2
}
