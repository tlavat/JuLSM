{
 "cells": [
  {
   "cell_type": "code",
   "execution_count": 4,
   "metadata": {},
   "outputs": [],
   "source": [
    "using Plots\n",
    "using LinearAlgebra"
   ]
  },
  {
   "cell_type": "code",
   "execution_count": 5,
   "metadata": {},
   "outputs": [
    {
     "data": {
      "text/plain": [
       "init_circle (generic function with 1 method)"
      ]
     },
     "execution_count": 5,
     "metadata": {},
     "output_type": "execute_result"
    }
   ],
   "source": [
    "function neumann_top(phi,N)\n",
    "    phi[2,2:N+1]\n",
    "end\n",
    "function neumann_bottom(phi,N)\n",
    "    phi[end-1,2:N+1]\n",
    "end\n",
    "function neumann_left(phi,N)\n",
    "    phi[2:N+1,2]\n",
    "end\n",
    "function neumann_right(phi,N)\n",
    "    phi[2:N+1,end-1]\n",
    "end\n",
    "function grid(L0,h,N)\n",
    "    [ -L0 + h*(i-1) for i=1:N+1, j = 1:N+1]\n",
    "end\n",
    "function cell_center(X,N)\n",
    "    0.5(X[1:N,1:N]+X[2:N+1,2:N+1])\n",
    "end\n",
    "function init_circle(X,Y,radius,N)\n",
    "    R = radius*[1 for i = 1:N, j = 1:N];\n",
    "    X.^2 + Y.^2 - R\n",
    "end"
   ]
  },
  {
   "cell_type": "code",
   "execution_count": 34,
   "metadata": {},
   "outputs": [
    {
     "data": {
      "text/plain": [
       "1976-element Array{CartesianIndex{2},1}:\n",
       " CartesianIndex(21, 1) \n",
       " CartesianIndex(22, 1) \n",
       " CartesianIndex(23, 1) \n",
       " CartesianIndex(24, 1) \n",
       " CartesianIndex(25, 1) \n",
       " CartesianIndex(26, 1) \n",
       " CartesianIndex(27, 1) \n",
       " CartesianIndex(28, 1) \n",
       " CartesianIndex(29, 1) \n",
       " CartesianIndex(30, 1) \n",
       " CartesianIndex(17, 2) \n",
       " CartesianIndex(18, 2) \n",
       " CartesianIndex(19, 2) \n",
       " ⋮                     \n",
       " CartesianIndex(33, 49)\n",
       " CartesianIndex(34, 49)\n",
       " CartesianIndex(21, 50)\n",
       " CartesianIndex(22, 50)\n",
       " CartesianIndex(23, 50)\n",
       " CartesianIndex(24, 50)\n",
       " CartesianIndex(25, 50)\n",
       " CartesianIndex(26, 50)\n",
       " CartesianIndex(27, 50)\n",
       " CartesianIndex(28, 50)\n",
       " CartesianIndex(29, 50)\n",
       " CartesianIndex(30, 50)"
      ]
     },
     "execution_count": 34,
     "metadata": {},
     "output_type": "execute_result"
    }
   ],
   "source": [
    "N = 50\n",
    "L0 = 1.\n",
    "h = 2*L0/N\n",
    "radius = 1.\n",
    "X = cell_center(transpose(grid(L0,h,N)),N);\n",
    "Y = cell_center(grid(L0,h,N),N);\n",
    "phi = init_circle(X,Y,radius,N);\n",
    "\n",
    "phibc = zeros(N+2,N+2)\n",
    "phibc[2:N+1,2:N+1] = init_circle(X,Y,radius,N)\n",
    "phibc[1,2:N+1] = phibc[2,2:N+1];\n",
    "phibc[end,2:N+1] = phibc[end-1,2:N+1]\n",
    "phibc[2:N+1,1] = phibc[2:N+1,2]\n",
    "phibc[2:N+1,end] = phibc[2:N+1,end-1]\n",
    "\n",
    "\n",
    "#pyplot()\n",
    "#plot(X,Y,phi,st=:surface,camera=(30,30))\n",
    "\n",
    "pos = findall(x->x<0,phi);\n",
    "#scatter(X[pos],Y[pos],legend = false, xlims = (-1.1*L0,1.1*L0), ylims = (-1.1*L0,1.1*L0))\n",
    "pos"
   ]
  },
  {
   "cell_type": "code",
   "execution_count": 60,
   "metadata": {},
   "outputs": [
    {
     "ename": "MethodError",
     "evalue": "MethodError: no method matching push!(::Type{Array{CartesianIndex{2},1}}, ::CartesianIndex{2})\nClosest candidates are:\n  push!(::Any, ::Any, !Matched::Any) at abstractarray.jl:2159\n  push!(::Any, ::Any, !Matched::Any, !Matched::Any...) at abstractarray.jl:2160\n  push!(!Matched::Array{Any,1}, ::Any) at array.jl:859\n  ...",
     "output_type": "error",
     "traceback": [
      "MethodError: no method matching push!(::Type{Array{CartesianIndex{2},1}}, ::CartesianIndex{2})\nClosest candidates are:\n  push!(::Any, ::Any, !Matched::Any) at abstractarray.jl:2159\n  push!(::Any, ::Any, !Matched::Any, !Matched::Any...) at abstractarray.jl:2160\n  push!(!Matched::Array{Any,1}, ::Any) at array.jl:859\n  ...",
      "",
      "Stacktrace:",
      " [1] top-level scope at ./In[60]:10"
     ]
    }
   ],
   "source": [
    "c = 1.\n",
    "#for i = 2:N+1\n",
    "    #for j = 2:N+1\n",
    "i = 20\n",
    "j = 20\n",
    "trial = Array{CartesianIndex{2},1};\n",
    "        for k = i-1:2:i+1\n",
    "            a = h*(-c)*((phibc[k,j]-phibc[i,j])/sqrt(((phibc[k,j]-phibc[i,j])^2)))\n",
    "            #if a < 0.\n",
    "                push!(trial,CartesianIndex(k, j))\n",
    "            #pos = findall(a->a<0.,phi[19:21,20]);\n",
    "            #end\n",
    "end\n"
   ]
  },
  {
   "cell_type": "code",
   "execution_count": 41,
   "metadata": {},
   "outputs": [
    {
     "ename": "UndefVarError",
     "evalue": "UndefVarError: rad1 not defined",
     "output_type": "error",
     "traceback": [
      "UndefVarError: rad1 not defined",
      "",
      "Stacktrace:",
      " [1] top-level scope at In[41]:6"
     ]
    }
   ],
   "source": [
    "phi = zeros(N+2,N+2)\n",
    "X = transpose([ -1 + h*(i-1) for i=1:N+1, j = 1:N+1])\n",
    "Y = [ -1 + h*(i-1) for i=1:N+1, j = 1:N+1];\n",
    "Xmid = 0.5(X[1:N,1:N]+X[2:N+1,2:N+1])\n",
    "Ymid = 0.5(Y[1:N,1:N]+Y[2:N+1,2:N+1])\n",
    "R = rad1[1]*[1 for i = 1:N, j = 1:N]\n",
    "phi[2:N+1,2:N+1] = Xmid.^2 + Ymid.^2 - R;\n",
    "#phi[1,2:N+1] = neumann_top(phi,N);\n",
    "#pyplot()\n",
    "#plot(Xmid,Ymid,phi,st=:surface,camera=(30,30))"
   ]
  },
  {
   "cell_type": "code",
   "execution_count": null,
   "metadata": {},
   "outputs": [],
   "source": [
    "for i = 1:length(rad1)\n",
    "    pos = findall(x->abs(x)<0.01,phi)\n",
    "    display(scatter(X[pos],Y[pos],legend = false, xlims = (-1,1), ylims = (-1,1)))\n",
    "    R = rad1[i]*[1 for i = 1:N+1, j = 1:N+1]\n",
    "    phi = Xmid.^2 + Ymid.^2 - R;\n",
    "end\n",
    "#display(plot(X,Y,phi,st=:surface,camera=(30,30)))"
   ]
  },
  {
   "cell_type": "code",
   "execution_count": null,
   "metadata": {},
   "outputs": [],
   "source": []
  }
 ],
 "metadata": {
  "kernelspec": {
   "display_name": "Julia 1.2.0",
   "language": "julia",
   "name": "julia-1.2"
  },
  "language_info": {
   "file_extension": ".jl",
   "mimetype": "application/julia",
   "name": "julia",
   "version": "1.2.0"
  }
 },
 "nbformat": 4,
 "nbformat_minor": 2
}
