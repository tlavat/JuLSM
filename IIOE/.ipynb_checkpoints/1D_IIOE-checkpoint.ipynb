{
 "cells": [
  {
   "cell_type": "code",
   "execution_count": 1,
   "metadata": {},
   "outputs": [],
   "source": [
    "using LinearAlgebra\n",
    "using NBInclude\n",
    "using Plots"
   ]
  },
  {
   "cell_type": "code",
   "execution_count": 70,
   "metadata": {},
   "outputs": [
    {
     "data": {
      "text/plain": [
       "solvertri (generic function with 1 method)"
      ]
     },
     "execution_count": 70,
     "metadata": {},
     "output_type": "execute_result"
    }
   ],
   "source": [
    "function initgrid(L0,h,N)\n",
    "    X = [ -L0 + h*(i-1) for i=1:N+1]\n",
    "    0.5(X[1:N]+X[2:N+1])\n",
    "end\n",
    "function sol1(X)\n",
    "    1. - 0.5(X.^2 + X)\n",
    "end\n",
    "function sol2(X)\n",
    "    n = length(X)\n",
    "    a = cos.(pi*(X+0.5(ones(n)))).^5\n",
    "    b = zeros(n)\n",
    "    out = mymax(b,a)\n",
    "end\n",
    "function sol3(X)\n",
    "    out = Array{Float64,1}(undef,0)\n",
    "    for i = 1:length(X)\n",
    "    (X[i] > -0.75) && (X[i] < -0.25) ? push!(out,1) : push!(out,0)\n",
    "    end\n",
    "    out\n",
    "end\n",
    "function mymax(X::AbstractVector{T},Y::AbstractVector{T}) where {T<:Number}\n",
    "    out = Array{Float64,1}(undef,0)\n",
    "    for i = 1:length(X)\n",
    "    X[i] > Y[i] ? push!(out,X[i]) : push!(out,Y[i])\n",
    "    end\n",
    "    out\n",
    "end\n",
    "function rc(a::T,b::T) where {T<:Number}\n",
    "    0.5(a + b)\n",
    "end\n",
    "function a_in(a::T) where {T<:Number}\n",
    "    a > 0 ? a : 0\n",
    "end\n",
    "function a_ou(a::T) where {T<:Number}\n",
    "    a < 0 ? a : 0\n",
    "end\n",
    "function inou(i::Int64,tau::T,u::AbstractVector{T},v::AbstractVector{T}) where {T<:Number}\n",
    "    if i\n",
    "end\n",
    "function solvertri(dl::V, d::V, du::V, b::V) where V <: AbstractVector\n",
    "    A = Tridiagonal(dl, d, du)\n",
    "    x = A\\b\n",
    "end"
   ]
  },
  {
   "cell_type": "code",
   "execution_count": 60,
   "metadata": {},
   "outputs": [],
   "source": [
    "N = 1000;\n",
    "L0 = 1;\n",
    "h = 2*L0/N\n",
    "v = 1. *ones(N);\n",
    "tau = h\n",
    "X = initgrid(L0,h,N);"
   ]
  },
  {
   "cell_type": "code",
   "execution_count": 61,
   "metadata": {},
   "outputs": [],
   "source": [
    "u1 = sol1.(X)\n",
    "u2 = sol2(X)\n",
    "u3 = sol3(X);"
   ]
  }
 ],
 "metadata": {
  "kernelspec": {
   "display_name": "Julia 1.2.0",
   "language": "julia",
   "name": "julia-1.2"
  },
  "language_info": {
   "file_extension": ".jl",
   "mimetype": "application/julia",
   "name": "julia",
   "version": "1.2.0"
  }
 },
 "nbformat": 4,
 "nbformat_minor": 2
}
