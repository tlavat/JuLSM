{
 "cells": [
  {
   "cell_type": "code",
   "execution_count": 1,
   "metadata": {},
   "outputs": [],
   "source": [
    "using LinearAlgebra\n",
    "using Plots"
   ]
  },
  {
   "cell_type": "code",
   "execution_count": 8,
   "metadata": {},
   "outputs": [
    {
     "data": {
      "text/plain": [
       "inflow (generic function with 1 method)"
      ]
     },
     "execution_count": 8,
     "metadata": {},
     "output_type": "execute_result"
    }
   ],
   "source": [
    "function initgrid(L0,h,N)\n",
    "    X = [ -L0 + h*(i-1) for i=1:N+1]\n",
    "    0.5(X[1:N]+X[2:N+1])\n",
    "end\n",
    "function sol1(X)\n",
    "    1. - 0.5(X.^2 + X)\n",
    "end\n",
    "function sol2(X)\n",
    "    n = length(X)\n",
    "    a = cos.(pi*(X+0.5(ones(n)))).^5\n",
    "    b = zeros(n)\n",
    "    out = mymax(b,a)\n",
    "end\n",
    "function sol3(X)\n",
    "    out = Array{Float64,1}(undef,0)\n",
    "    for i = 1:length(X)\n",
    "    (X[i] > -0.75) && (X[i] < -0.25) ? push!(out,1) : push!(out,0)\n",
    "    end\n",
    "    out\n",
    "end\n",
    "function mymax(X::AbstractVector{T},Y::AbstractVector{T}) where {T<:Number}\n",
    "    out = Array{Float64,1}(undef,0)\n",
    "    for i = 1:length(X)\n",
    "    X[i] > Y[i] ? push!(out,X[i]) : push!(out,Y[i])\n",
    "    end\n",
    "    out\n",
    "end\n",
    "function rc(a::T,b::T) where {T<:Number}\n",
    "    0.5(a + b)\n",
    "end\n",
    "function a_in(a::T) where {T<:Number}\n",
    "    a > 0 ? a : 0\n",
    "end\n",
    "function a_ou(a::T) where {T<:Number}\n",
    "    a < 0 ? a : 0\n",
    "end\n",
    "function BCs(X,v,j,tau,case)\n",
    "    if case == 1\n",
    "        ana = sol1.(X - v*tau*j);\n",
    "    elseif case == 2\n",
    "        ana = sol2(X - v*tau*j);\n",
    "    elseif case == 3\n",
    "        ana = sol3(X - v*tau*j);\n",
    "    end\n",
    "    bcl = ana[1]\n",
    "    bcr = ana[end]\n",
    "    bcl, bcr\n",
    "end\n",
    "function coeff_out(v,tau,h,i)\n",
    "    m = (tau/(2*h))\n",
    "    C = m*a_ou(rc(v[i],v[i-1]))\n",
    "    E = m*a_ou(-rc(v[i],v[i+1]))\n",
    "    C, E\n",
    "end\n",
    "function coeff_in(v,tau,h,i)\n",
    "    m = (tau/(2*h))\n",
    "    A = m*a_in(rc(v[i],v[i-1]))\n",
    "    B = m*a_in(-rc(v[i],v[i+1]))\n",
    "    A, B\n",
    "end\n",
    "function solvertri(dl::V, d::V, du::V, b::V) where V <: AbstractVector\n",
    "    Mat = Tridiagonal(dl, d, du)\n",
    "    x = Mat\\b\n",
    "end\n",
    "function initialisation(N,h,L0,case)\n",
    "    X = initgrid(L0,h,N);\n",
    "    if case == 1\n",
    "        u = sol1.(X)\n",
    "        u1 = sol1.(X)\n",
    "    elseif case == 2\n",
    "        u = sol2(X)\n",
    "        u1 = sol2(X)\n",
    "    elseif case == 3\n",
    "        u = sol3(X)\n",
    "        u1 = sol3(X)\n",
    "    end\n",
    "    up = zeros(N);\n",
    "    X, u, up, u1\n",
    "end\n",
    "function err1(err,X,u,v,tau,nt,case)\n",
    "    if case == 1\n",
    "        ua = sol1.(X - v*tau*nt);\n",
    "    elseif case == 2\n",
    "        ua = sol2(X - v*tau*nt);\n",
    "    elseif case == 3\n",
    "        ua = sol3(X - v*tau*nt);\n",
    "    end\n",
    "    for i = 1:length(u)\n",
    "        err += sqrt((ua[i] - u[i])^2)\n",
    "    end\n",
    "    X, u, ua, err\n",
    "end\n",
    "function IIOE(a,Tmax,L0,vit,dh,case)\n",
    "    err = 0.0\n",
    "    N = a\n",
    "    h = 2*L0/N\n",
    "    v = vit*ones(N)\n",
    "    tau = dh*h\n",
    "    nt = trunc(Int, Tmax/tau)\n",
    "    X, u, up, u1 = initialisation(N,h,L0,case)\n",
    "    for j = 1:nt\n",
    "        outflow(X,v,tau,h,u,up,j,case)\n",
    "        u = inflow(up,v,tau,h)\n",
    "    end\n",
    "    ua = sol1.(X - v*tau*nt);\n",
    "    X, u, ua, err = err1(err,X,u,v,tau,nt,case);\n",
    "    X, u, ua, err, u1\n",
    "end\n",
    "    \n",
    "function outflow(X,v,tau,h,u,up,j,case)\n",
    "    bcl, bcr = BCs(X,v,j,tau,case)\n",
    "    for i = 2:(length(u)-1)\n",
    "        C, E = coeff_out(v,tau,h,i)\n",
    "        up[i] = C*u[i-1] + (1.0 - C - E)*u[i] + E*u[i+1]\n",
    "    end\n",
    "    up[1] = bcl\n",
    "    up[end] = bcr\n",
    "    up\n",
    "end\n",
    "function inflow(up,v,tau,h)   \n",
    "    dl = Array{Float64,1}(undef,0);\n",
    "    d = Array{Float64,1}(undef,0);\n",
    "    du = Array{Float64,1}(undef,0);\n",
    "    push!(d, 1.0)\n",
    "    push!(du, 0.0)\n",
    "    for i = 2:(length(up)-1)\n",
    "        A, B = coeff_in(v,tau,h,i)\n",
    "        push!(dl, -A)\n",
    "        push!(d, (1.0 + A + B))\n",
    "        push!(du, -B)\n",
    "    end\n",
    "    push!(dl, 0.0)\n",
    "    push!(d, 1.0)\n",
    "    solvertri(dl, d, du, up)\n",
    "end"
   ]
  },
  {
   "cell_type": "markdown",
   "metadata": {},
   "source": [
    "##### Parameters"
   ]
  },
  {
   "cell_type": "code",
   "execution_count": 9,
   "metadata": {},
   "outputs": [
    {
     "data": {
      "text/plain": [
       "Plots.PyPlotBackend()"
      ]
     },
     "execution_count": 9,
     "metadata": {},
     "output_type": "execute_result"
    }
   ],
   "source": [
    "pyplot()"
   ]
  },
  {
   "cell_type": "code",
   "execution_count": 45,
   "metadata": {},
   "outputs": [
    {
     "name": "stdout",
     "output_type": "stream",
     "text": [
      "case : 1  N = 20  dt = 1τ  error = 4.690692279041286e-15\n"
     ]
    }
   ],
   "source": [
    "N = 20\n",
    "case = 1\n",
    "dh = 1\n",
    "X, u, ua, err, u1 = IIOE(N,1.0,1.0,1.0,dh,case); #(N,Tmax,L0,vit,dh,case)\n",
    "println(\"case : \",case,\"  N = \",N,\"  dt = \",dh,\"τ\",\"  error = \",err)"
   ]
  },
  {
   "cell_type": "code",
   "execution_count": 42,
   "metadata": {},
   "outputs": [
    {
     "data": {
      "image/png": "[encoded data removed]"
     },
     "execution_count": 42,
     "metadata": {},
     "output_type": "execute_result"
    }
   ],
   "source": [
    "plot(X,[u1,ua,u],label = [\"Initial\" \"Analytical\" \"Numerical\"], lw = 2)"
   ]
  },
  {
   "cell_type": "code",
   "execution_count": 117,
   "metadata": {},
   "outputs": [],
   "source": [
    "\n",
    "Nstep = 7\n",
    "test = zeros(Nstep)\n",
    "\n",
    "for k = 1:Nstep\n",
    "    N = 10*2^k\n",
    "    X, u, ua, err = IIOE(N,1.0,1.0,1.0,1.0,3);\n",
    "    test[k] = err\n",
    "    p = plot!(X,[u])\n",
    "end"
   ]
  }
 ],
 "metadata": {
  "kernelspec": {
   "display_name": "Julia 1.2.0",
   "language": "julia",
   "name": "julia-1.2"
  },
  "language_info": {
   "file_extension": ".jl",
   "mimetype": "application/julia",
   "name": "julia",
   "version": "1.2.0"
  }
 },
 "nbformat": 4,
 "nbformat_minor": 2
}
