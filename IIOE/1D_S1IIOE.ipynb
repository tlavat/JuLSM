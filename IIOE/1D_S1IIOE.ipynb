{
 "cells": [
  {
   "cell_type": "code",
   "execution_count": 3,
   "metadata": {},
   "outputs": [],
   "source": [
    "using LinearAlgebra\n",
    "using Plots"
   ]
  },
  {
   "cell_type": "code",
   "execution_count": 4,
   "metadata": {},
   "outputs": [
    {
     "data": {
      "text/plain": [
       "Plots.PyPlotBackend()"
      ]
     },
     "execution_count": 4,
     "metadata": {},
     "output_type": "execute_result"
    }
   ],
   "source": [
    "pyplot()"
   ]
  },
  {
   "cell_type": "code",
   "execution_count": 758,
   "metadata": {},
   "outputs": [
    {
     "data": {
      "text/plain": [
       "restore0 (generic function with 1 method)"
      ]
     },
     "execution_count": 758,
     "metadata": {},
     "output_type": "execute_result"
    }
   ],
   "source": [
    "function initgrid(L0,h,N)\n",
    "    X = [ -L0 + h*(i-1) for i=1:N+1]\n",
    "    0.5(X[1:N]+X[2:N+1])\n",
    "end\n",
    "function sol1(X)\n",
    "    1. - 0.5(X.^2 + X)\n",
    "end\n",
    "function sol2(X)\n",
    "    n = length(X)\n",
    "    a = cos.(pi*(X+0.5(ones(n)))).^5\n",
    "    b = zeros(n)\n",
    "    out = mymax(b,a)\n",
    "end\n",
    "function sol3(X)\n",
    "    out = Array{Float64,1}(undef,0)\n",
    "    for i = 1:length(X)\n",
    "    (X[i] > -0.75) && (X[i] < -0.25) ? push!(out,1) : push!(out,0)\n",
    "    end\n",
    "    out\n",
    "end\n",
    "function mymax(X::AbstractVector{T},Y::AbstractVector{T}) where {T<:Number}\n",
    "    out = Array{Float64,1}(undef,0)\n",
    "    for i = 1:length(X)\n",
    "    X[i] > Y[i] ? push!(out,X[i]) : push!(out,Y[i])\n",
    "    end\n",
    "    out\n",
    "end\n",
    "function rc(a::T,b::T) where {T<:Number}\n",
    "    0.5(a + b)\n",
    "end\n",
    "function a_in(a::T) where {T<:Number}\n",
    "    a > 0 ? a : 0\n",
    "end\n",
    "function a_ou(a::T) where {T<:Number}\n",
    "    a < 0 ? a : 0\n",
    "end\n",
    "function BCs(X,v,j,tau,case)\n",
    "    if case == 1\n",
    "        ana = sol1.(X - v*tau*j);\n",
    "    elseif case == 2\n",
    "        ana = sol2(X - v*tau*j);\n",
    "    elseif case == 3\n",
    "        ana = sol3(X - v*tau*j);\n",
    "    end\n",
    "    bcl = ana[1]\n",
    "    bcr = ana[end]\n",
    "    bcl, bcr\n",
    "end\n",
    "function coeff_out(v,i)\n",
    "    C = a_ou(rc(v[i],v[i-1]))\n",
    "    E = a_ou(-rc(v[i],v[i+1]))\n",
    "    C, E\n",
    "end\n",
    "function coeff_in(v,i)\n",
    "    A = a_in(rc(v[i],v[i-1]))\n",
    "    B = a_in(-rc(v[i],v[i+1]))\n",
    "    A, B\n",
    "end\n",
    "function solvertri(dl::V, d::V, du::V, b::V) where V <: AbstractVector\n",
    "    Mat = Tridiagonal(dl, d, du)\n",
    "    #println(Mat)\n",
    "    x = Mat\\b\n",
    "end\n",
    "function initialisation(N,h,L0,case)\n",
    "    X = initgrid(L0,h,N);\n",
    "    if case == 1\n",
    "        u = sol1.(X)\n",
    "        u1 = sol1.(X)\n",
    "    elseif case == 2\n",
    "        u = sol2(X)\n",
    "        u1 = sol2(X)\n",
    "    elseif case == 3\n",
    "        u = sol3(X)\n",
    "        u1 = sol3(X)\n",
    "    end\n",
    "    up = zeros(N);\n",
    "    upp = zeros(N);\n",
    "    tin = zeros(N);\n",
    "    X, u, up, upp, u1, tin\n",
    "end\n",
    "function err1(err,X,u,v,tau,nt,h,case)\n",
    "    if case == 1\n",
    "        ua = sol1.(X - v*tau*nt);\n",
    "    elseif case == 2\n",
    "        ua = sol2(X - v*tau*nt);\n",
    "    elseif case == 3\n",
    "        ua = sol3(X - v*tau*nt);\n",
    "    end\n",
    "    for i = 1:length(u)\n",
    "        err += abs(ua[i] - u[i])*h\n",
    "    end\n",
    "    X, u, ua, err\n",
    "end\n",
    "function S1IIOE(a,Tmax,L0,vit,dh,case)\n",
    "    err = 0.0\n",
    "    N = a\n",
    "    h = 2*L0/N\n",
    "    v = vit*ones(N)\n",
    "    tau = dh*h\n",
    "    nt = trunc(Int, Tmax/tau)\n",
    "    X, u, up, upp, u1, tin = initialisation(N,h,L0,case)\n",
    "    for j = 1:nt\n",
    "        up, tin = outflow(X,v,tau,h,u,up,j,tin,case)\n",
    "        #upp = quadratic(upp,up)\n",
    "        u = inflow(up,v,tau,h,tin)\n",
    "        u = restore0(u)\n",
    "    end\n",
    "    ua = sol1.(X - v*tau*nt);\n",
    "    X, u, ua, err = err1(err,X,u,v,tau,nt,h,case);\n",
    "    X, u, ua, err, u1, tin\n",
    "end\n",
    "    \n",
    "function outflow(X,v,tau,h,u,up,j,tin,case)\n",
    "    bcl, bcr = BCs(X,v,j,tau,case)\n",
    "    for i = 2:(length(u)-1)\n",
    "        m = tau/h\n",
    "        C, E = coeff_out(v,i)\n",
    "        tout, tin[i] = findtheta(u,tau,h,E,i)\n",
    "        #tout = 0.5\n",
    "        #tin[i] = 0.5\n",
    "        up[i] = m*C*u[i-1] + (1.0 - m*C - m*tout*E)*u[i] + m*tout*E*u[i+1]\n",
    "        if abs(u[i]) < 1e-100\n",
    "            u[i] = 0.0\n",
    "        end\n",
    "    end\n",
    "    up[1] = bcl\n",
    "    up[end] = bcr\n",
    "    up, tin\n",
    "end\n",
    "function inflow(up,v,tau,h,tin)   \n",
    "    dl = Array{Float64,1}(undef,0);\n",
    "    d = Array{Float64,1}(undef,0);\n",
    "    du = Array{Float64,1}(undef,0);\n",
    "    push!(d, 1.0)\n",
    "    push!(du, 0.0)\n",
    "    for i = 2:(length(up)-1)\n",
    "        m = tau/h\n",
    "        A, B = coeff_in(v,i)\n",
    "        push!(dl, m*tin[i]*(-A))\n",
    "        push!(d, (1.0 + m*tin[i]*A + m*B))\n",
    "        push!(du, m*(-B))\n",
    "    end\n",
    "    push!(dl, 0.0)\n",
    "    push!(d, 1.0)\n",
    "    solvertri(dl, d, du, up)\n",
    "end\n",
    "function findtheta(u,tau,h,E,i)\n",
    "    if E*(u[i+1] - u[i]) > 0\n",
    "        umax = max(u[i-1],u[i],u[i+1])\n",
    "        tout = min(0.5,((h*(umax - u[i]))/(tau*E*(u[i+1] - u[i]))))\n",
    "        tin = 1.0 - tout\n",
    "        #println(\"max \",i,\" \",tout,\" \",tin,\" \", E, \" \", ((h*(umax - u[i]))/(-tau*E*(u[i+1] - u[i]))))\n",
    "    elseif E*(u[i+1] - u[i]) < 0\n",
    "        umin = min(u[i-1],u[i],u[i+1])\n",
    "        tout = min(0.5,((h*(umin - u[i]))/(tau*E*(u[i+1] - u[i]))))\n",
    "        tin = 1.0 - tout\n",
    "        #println(\"min \",i,\" \",tout,\" \",tin,\" \", E, \" \", ((h*(umin - u[i]))/(-tau*E*(u[i+1] - u[i]))))\n",
    "    elseif abs(E*(u[i+1] - u[i])) == 0.0\n",
    "        tout = 0.5\n",
    "        tin = 1.0 - tout\n",
    "    end\n",
    "    #tout = 0.5;\n",
    "    tout, tin\n",
    "end\n",
    "function quadratic(upp,u)\n",
    "    for i = 2:length(upp)-1\n",
    "        upp[i] = (1/6)*u[i-1] + (2/3)*u[i] + (1/6)*u[i+1]\n",
    "    end\n",
    "    upp\n",
    "end\n",
    "function restore0(u)\n",
    "    for i = 1:length(u)\n",
    "        if (abs(u[i]) < 1e-200)\n",
    "            #println(i)\n",
    "            u[i] = 0.0\n",
    "        end\n",
    "    end\n",
    "    u\n",
    "end"
   ]
  },
  {
   "cell_type": "markdown",
   "metadata": {},
   "source": [
    "##### Parameters"
   ]
  },
  {
   "cell_type": "code",
   "execution_count": 759,
   "metadata": {},
   "outputs": [],
   "source": [
    "N = 1280\n",
    "case = 3\n",
    "dh = 1;\n"
   ]
  },
  {
   "cell_type": "code",
   "execution_count": 760,
   "metadata": {},
   "outputs": [],
   "source": [
    "X, u, ua, err, u1, tin = S1IIOE(N,1.0,1.0,1.0,dh,case); #(N,Tmax,L0,vit,dh,case)"
   ]
  },
  {
   "cell_type": "code",
   "execution_count": 761,
   "metadata": {},
   "outputs": [
    {
     "data": {
      "image/png": "[encoded data removed]"
     },
     "execution_count": 761,
     "metadata": {},
     "output_type": "execute_result"
    }
   ],
   "source": [
    "plot(X,[u1,ua,u],label = [\"Initial\" \"Analytical\" \"Numerical\"], lw = 2)"
   ]
  },
  {
   "cell_type": "code",
   "execution_count": 762,
   "metadata": {},
   "outputs": [
    {
     "data": {
      "text/plain": [
       "0.029844801829078303"
      ]
     },
     "execution_count": 762,
     "metadata": {},
     "output_type": "execute_result"
    }
   ],
   "source": [
    "err"
   ]
  },
  {
   "cell_type": "code",
   "execution_count": null,
   "metadata": {},
   "outputs": [],
   "source": []
  }
 ],
 "metadata": {
  "kernelspec": {
   "display_name": "Julia 1.2.0",
   "language": "julia",
   "name": "julia-1.2"
  },
  "language_info": {
   "file_extension": ".jl",
   "mimetype": "application/julia",
   "name": "julia",
   "version": "1.2.0"
  }
 },
 "nbformat": 4,
 "nbformat_minor": 2
}
