{
 "cells": [
  {
   "cell_type": "markdown",
   "metadata": {},
   "source": [
    "### 1D advection Level Set Method with reinitialisation"
   ]
  },
  {
   "cell_type": "code",
   "execution_count": 14,
   "metadata": {},
   "outputs": [],
   "source": [
    "using Plots\n",
    "using LinearAlgebra"
   ]
  },
  {
   "cell_type": "markdown",
   "metadata": {},
   "source": [
    "##### Functions"
   ]
  },
  {
   "cell_type": "code",
   "execution_count": 15,
   "metadata": {},
   "outputs": [
    {
     "data": {
      "text/plain": [
       "sign1 (generic function with 1 method)"
      ]
     },
     "execution_count": 15,
     "metadata": {},
     "output_type": "execute_result"
    }
   ],
   "source": [
    "# Initalisation phi\n",
    "function init(x)\n",
    "    -1. + abs(x)\n",
    "end\n",
    "\n",
    "# Forcing term as sin(t)\n",
    "function init2(x)\n",
    "    4.0 * sin(4. *x*pi)\n",
    "end\n",
    "\n",
    "# Periodic boundary conditions\n",
    "function periodic(phi,i)\n",
    "    [phi[i,end]; phi[i,:]; phi[i,1]]\n",
    "end\n",
    "\n",
    "# VOF upwind flux computation \n",
    "function flux(phibc,i,nx,u)\n",
    "        F[i,:] =   0.5*u*(phibc[i,2:nx+2] + phibc[i,1:nx+1])- 0.5*abs(u)*( phibc[i,2:nx+2] - phibc[i,1:nx+1]);\n",
    "        R[i,:] = F[i,2:nx+1] - F[i,1:nx];\n",
    "end\n",
    "function flux(phibc, i, nx, u::AbstractVector{T}) where {T <: Number}\n",
    "    F[i,:] =   0.5*u[i+1]*(phibc[i,2:nx+2] + phibc[i,1:nx+1])- 0.5*abs(u[i+1])*( phibc[i,2:nx+2] - phibc[i,1:nx+1]);\n",
    "    R[i,:] = F[i,2:nx+1] - F[i,1:nx];\n",
    "end\n",
    "# Sign fuction used for reinitialisation of level set function\n",
    "function sign1(x,dx)\n",
    "    x/sqrt(x.^2 +dx^2)\n",
    "end"
   ]
  },
  {
   "cell_type": "code",
   "execution_count": 16,
   "metadata": {},
   "outputs": [
    {
     "data": {
      "text/html": [
       "2 methods for generic function <b>flux</b>:<ul><li> flux(phibc, i, nx, u::<b>AbstractArray{T,1}</b>)<i> where T<:Number</i> in Main at In[15]:22</li> <li> flux(phibc, i, nx, u) in Main at In[15]:18</li> </ul>"
      ],
      "text/plain": [
       "# 2 methods for generic function \"flux\":\n",
       "[1] flux(phibc, i, nx, u::AbstractArray{T,1}) where T<:Number in Main at In[15]:22\n",
       "[2] flux(phibc, i, nx, u) in Main at In[15]:18"
      ]
     },
     "execution_count": 16,
     "metadata": {},
     "output_type": "execute_result"
    }
   ],
   "source": [
    "methods(flux)"
   ]
  },
  {
   "cell_type": "markdown",
   "metadata": {},
   "source": [
    "##### Parameters and initialisation"
   ]
  },
  {
   "cell_type": "code",
   "execution_count": 20,
   "metadata": {},
   "outputs": [
    {
     "data": {
      "text/plain": [
       "1.0"
      ]
     },
     "execution_count": 20,
     "metadata": {},
     "output_type": "execute_result"
    }
   ],
   "source": [
    "nt = 1000\n",
    "nx = 100\n",
    "Tmax = 5.\n",
    "Xmax = 2.\n",
    "dt = Tmax/nt\n",
    "dx = 2*Xmax/nx\n",
    "x = -Xmax:dx:Xmax;\n",
    "\n",
    "xmid = 0.5*(x[1:nx] + x[2:nx+1])\n",
    "\n",
    "sol = zeros(nt+1,nx)\n",
    "phi = zeros(nt+1,nx)\n",
    "phi2 = zeros(nt+1,nx)\n",
    "phibc = zeros(nt,nx+2) # function without reinitialisation\n",
    "phibc2 = zeros(nt,nx+2)# function with reinitialisation\n",
    "phi0 = zeros(1,nx)\n",
    "err = zeros(1,nt)\n",
    "F = zeros(nt,nx + 1)\n",
    "R = zeros(nt,nx)\n",
    "phi[1,:] = init.(xmid);\n",
    "phi2[1,:] = init.(xmid);\n",
    "#tspawn = 0:dt:Tmax;\n",
    "#u = init2.(tspawn);\n",
    "u = 1."
   ]
  },
  {
   "cell_type": "markdown",
   "metadata": {},
   "source": [
    "##### Main loop"
   ]
  },
  {
   "cell_type": "code",
   "execution_count": 21,
   "metadata": {},
   "outputs": [],
   "source": [
    "for i = 1:nt\n",
    "    # Periodic BC imposed at each time step\n",
    "    phibc[i,:] = periodic(phi,i) \n",
    "    #phibc2[i,:] = periodic(phi2,i) \n",
    "    \n",
    "    # Update the level set function\n",
    "    phi[i+1,:] = phi[i,:] - (dt/dx)*flux(phibc,i,nx,u);\n",
    "    #phi2[i+1,:] = phi2[i,:] - (dt/dx)*flux(phibc2,i,nx,u);\n",
    "    \n",
    "    # For phi2 we try to reinitialise the level set function at each time step\n",
    "    # grad(Phi)| needs to be normalised to 1\n",
    "    # We iterate over a non-physical time step until \"equilibrium\" is reached for :\n",
    "    # d(phi)/dt = sign(phi) * (1. - |grad(Phi)|)\n",
    "    # from MENARD, 2007 chap 2\n",
    "    #=a = sign1.(phi2[i+1,:],dx)*(1. - norm(flux(phibc2,i,nx,1.)))\n",
    "    for j = 1:3\n",
    "        if norm(a) > 0.00001\n",
    "            phi2[i+1,:] = phi2[i+1,:] + dt*a\n",
    "            phibc2[i,:] = periodic(phi2,i)\n",
    "            a = sign1.(phi2[i+1,:],dx)*(1. - norm(flux(phibc2,i,nx,1.)))\n",
    "        end\n",
    "    end=#\n",
    "    \n",
    "end"
   ]
  },
  {
   "cell_type": "code",
   "execution_count": 22,
   "metadata": {},
   "outputs": [
    {
     "data": {
      "image/svg+xml": [
       "<?xml version=\"1.0\" encoding=\"utf-8\"?>\n",
       "<svg xmlns=\"http://www.w3.org/2000/svg\" xmlns:xlink=\"http://www.w3.org/1999/xlink\" width=\"600\" height=\"400\" viewBox=\"0 0 2400 1600\">\n",
       "<defs>\n",
       "  <clipPath id=\"clip6100\">\n",
       "    <rect x=\"0\" y=\"0\" width=\"2400\" height=\"1600\"/>\n",
       "  </clipPath>\n",
       "</defs>\n",
       "<polygon clip-path=\"url(#clip6100)\" points=\"\n",
       "0,1600 2400,1600 2400,0 0,0 \n",
       "  \" fill=\"#ffffff\" fill-rule=\"evenodd\" fill-opacity=\"1\"/>\n",
       "<defs>\n",
       "  <clipPath id=\"clip6101\">\n",
       "    <rect x=\"480\" y=\"0\" width=\"1681\" height=\"1600\"/>\n",
       "  </clipPath>\n",
       "</defs>\n",
       "<polygon clip-path=\"url(#clip6100)\" points=\"\n",
       "141.865,1487.47 2352.76,1487.47 2352.76,47.2441 141.865,47.2441 \n",
       "  \" fill=\"#ffffff\" fill-rule=\"evenodd\" fill-opacity=\"1\"/>\n",
       "<defs>\n",
       "  <clipPath id=\"clip6102\">\n",
       "    <rect x=\"141\" y=\"47\" width=\"2212\" height=\"1441\"/>\n",
       "  </clipPath>\n",
       "</defs>\n",
       "<polyline clip-path=\"url(#clip6102)\" style=\"stroke:#000000; stroke-width:2; stroke-opacity:0.1; fill:none\" points=\"\n",
       "  193.903,1487.47 193.903,47.2441 \n",
       "  \"/>\n",
       "<polyline clip-path=\"url(#clip6102)\" style=\"stroke:#000000; stroke-width:2; stroke-opacity:0.1; fill:none\" points=\"\n",
       "  720.607,1487.47 720.607,47.2441 \n",
       "  \"/>\n",
       "<polyline clip-path=\"url(#clip6102)\" style=\"stroke:#000000; stroke-width:2; stroke-opacity:0.1; fill:none\" points=\"\n",
       "  1247.31,1487.47 1247.31,47.2441 \n",
       "  \"/>\n",
       "<polyline clip-path=\"url(#clip6102)\" style=\"stroke:#000000; stroke-width:2; stroke-opacity:0.1; fill:none\" points=\"\n",
       "  1774.01,1487.47 1774.01,47.2441 \n",
       "  \"/>\n",
       "<polyline clip-path=\"url(#clip6102)\" style=\"stroke:#000000; stroke-width:2; stroke-opacity:0.1; fill:none\" points=\"\n",
       "  2300.72,1487.47 2300.72,47.2441 \n",
       "  \"/>\n",
       "<polyline clip-path=\"url(#clip6102)\" style=\"stroke:#000000; stroke-width:2; stroke-opacity:0.1; fill:none\" points=\"\n",
       "  141.865,1487.47 2352.76,1487.47 \n",
       "  \"/>\n",
       "<polyline clip-path=\"url(#clip6102)\" style=\"stroke:#000000; stroke-width:2; stroke-opacity:0.1; fill:none\" points=\"\n",
       "  141.865,1199.43 2352.76,1199.43 \n",
       "  \"/>\n",
       "<polyline clip-path=\"url(#clip6102)\" style=\"stroke:#000000; stroke-width:2; stroke-opacity:0.1; fill:none\" points=\"\n",
       "  141.865,911.382 2352.76,911.382 \n",
       "  \"/>\n",
       "<polyline clip-path=\"url(#clip6102)\" style=\"stroke:#000000; stroke-width:2; stroke-opacity:0.1; fill:none\" points=\"\n",
       "  141.865,623.336 2352.76,623.336 \n",
       "  \"/>\n",
       "<polyline clip-path=\"url(#clip6102)\" style=\"stroke:#000000; stroke-width:2; stroke-opacity:0.1; fill:none\" points=\"\n",
       "  141.865,335.29 2352.76,335.29 \n",
       "  \"/>\n",
       "<polyline clip-path=\"url(#clip6102)\" style=\"stroke:#000000; stroke-width:2; stroke-opacity:0.1; fill:none\" points=\"\n",
       "  141.865,47.2441 2352.76,47.2441 \n",
       "  \"/>\n",
       "<polyline clip-path=\"url(#clip6100)\" style=\"stroke:#000000; stroke-width:4; stroke-opacity:1; fill:none\" points=\"\n",
       "  141.865,1487.47 2352.76,1487.47 \n",
       "  \"/>\n",
       "<polyline clip-path=\"url(#clip6100)\" style=\"stroke:#000000; stroke-width:4; stroke-opacity:1; fill:none\" points=\"\n",
       "  141.865,1487.47 141.865,47.2441 \n",
       "  \"/>\n",
       "<polyline clip-path=\"url(#clip6100)\" style=\"stroke:#000000; stroke-width:4; stroke-opacity:1; fill:none\" points=\"\n",
       "  193.903,1487.47 193.903,1465.87 \n",
       "  \"/>\n",
       "<polyline clip-path=\"url(#clip6100)\" style=\"stroke:#000000; stroke-width:4; stroke-opacity:1; fill:none\" points=\"\n",
       "  720.607,1487.47 720.607,1465.87 \n",
       "  \"/>\n",
       "<polyline clip-path=\"url(#clip6100)\" style=\"stroke:#000000; stroke-width:4; stroke-opacity:1; fill:none\" points=\"\n",
       "  1247.31,1487.47 1247.31,1465.87 \n",
       "  \"/>\n",
       "<polyline clip-path=\"url(#clip6100)\" style=\"stroke:#000000; stroke-width:4; stroke-opacity:1; fill:none\" points=\"\n",
       "  1774.01,1487.47 1774.01,1465.87 \n",
       "  \"/>\n",
       "<polyline clip-path=\"url(#clip6100)\" style=\"stroke:#000000; stroke-width:4; stroke-opacity:1; fill:none\" points=\"\n",
       "  2300.72,1487.47 2300.72,1465.87 \n",
       "  \"/>\n",
       "<polyline clip-path=\"url(#clip6100)\" style=\"stroke:#000000; stroke-width:4; stroke-opacity:1; fill:none\" points=\"\n",
       "  141.865,1487.47 175.028,1487.47 \n",
       "  \"/>\n",
       "<polyline clip-path=\"url(#clip6100)\" style=\"stroke:#000000; stroke-width:4; stroke-opacity:1; fill:none\" points=\"\n",
       "  141.865,1199.43 175.028,1199.43 \n",
       "  \"/>\n",
       "<polyline clip-path=\"url(#clip6100)\" style=\"stroke:#000000; stroke-width:4; stroke-opacity:1; fill:none\" points=\"\n",
       "  141.865,911.382 175.028,911.382 \n",
       "  \"/>\n",
       "<polyline clip-path=\"url(#clip6100)\" style=\"stroke:#000000; stroke-width:4; stroke-opacity:1; fill:none\" points=\"\n",
       "  141.865,623.336 175.028,623.336 \n",
       "  \"/>\n",
       "<polyline clip-path=\"url(#clip6100)\" style=\"stroke:#000000; stroke-width:4; stroke-opacity:1; fill:none\" points=\"\n",
       "  141.865,335.29 175.028,335.29 \n",
       "  \"/>\n",
       "<polyline clip-path=\"url(#clip6100)\" style=\"stroke:#000000; stroke-width:4; stroke-opacity:1; fill:none\" points=\"\n",
       "  141.865,47.2441 175.028,47.2441 \n",
       "  \"/>\n",
       "<g clip-path=\"url(#clip6100)\">\n",
       "<text style=\"fill:#000000; fill-opacity:1; font-family:Arial,Helvetica Neue,Helvetica,sans-serif; font-size:48px; text-anchor:middle;\" transform=\"rotate(0, 193.903, 1541.47)\" x=\"193.903\" y=\"1541.47\">-2</text>\n",
       "</g>\n",
       "<g clip-path=\"url(#clip6100)\">\n",
       "<text style=\"fill:#000000; fill-opacity:1; font-family:Arial,Helvetica Neue,Helvetica,sans-serif; font-size:48px; text-anchor:middle;\" transform=\"rotate(0, 720.607, 1541.47)\" x=\"720.607\" y=\"1541.47\">-1</text>\n",
       "</g>\n",
       "<g clip-path=\"url(#clip6100)\">\n",
       "<text style=\"fill:#000000; fill-opacity:1; font-family:Arial,Helvetica Neue,Helvetica,sans-serif; font-size:48px; text-anchor:middle;\" transform=\"rotate(0, 1247.31, 1541.47)\" x=\"1247.31\" y=\"1541.47\">0</text>\n",
       "</g>\n",
       "<g clip-path=\"url(#clip6100)\">\n",
       "<text style=\"fill:#000000; fill-opacity:1; font-family:Arial,Helvetica Neue,Helvetica,sans-serif; font-size:48px; text-anchor:middle;\" transform=\"rotate(0, 1774.01, 1541.47)\" x=\"1774.01\" y=\"1541.47\">1</text>\n",
       "</g>\n",
       "<g clip-path=\"url(#clip6100)\">\n",
       "<text style=\"fill:#000000; fill-opacity:1; font-family:Arial,Helvetica Neue,Helvetica,sans-serif; font-size:48px; text-anchor:middle;\" transform=\"rotate(0, 2300.72, 1541.47)\" x=\"2300.72\" y=\"1541.47\">2</text>\n",
       "</g>\n",
       "<g clip-path=\"url(#clip6100)\">\n",
       "<text style=\"fill:#000000; fill-opacity:1; font-family:Arial,Helvetica Neue,Helvetica,sans-serif; font-size:48px; text-anchor:end;\" transform=\"rotate(0, 117.865, 1504.97)\" x=\"117.865\" y=\"1504.97\">-2</text>\n",
       "</g>\n",
       "<g clip-path=\"url(#clip6100)\">\n",
       "<text style=\"fill:#000000; fill-opacity:1; font-family:Arial,Helvetica Neue,Helvetica,sans-serif; font-size:48px; text-anchor:end;\" transform=\"rotate(0, 117.865, 1216.93)\" x=\"117.865\" y=\"1216.93\">-1</text>\n",
       "</g>\n",
       "<g clip-path=\"url(#clip6100)\">\n",
       "<text style=\"fill:#000000; fill-opacity:1; font-family:Arial,Helvetica Neue,Helvetica,sans-serif; font-size:48px; text-anchor:end;\" transform=\"rotate(0, 117.865, 928.882)\" x=\"117.865\" y=\"928.882\">0</text>\n",
       "</g>\n",
       "<g clip-path=\"url(#clip6100)\">\n",
       "<text style=\"fill:#000000; fill-opacity:1; font-family:Arial,Helvetica Neue,Helvetica,sans-serif; font-size:48px; text-anchor:end;\" transform=\"rotate(0, 117.865, 640.836)\" x=\"117.865\" y=\"640.836\">1</text>\n",
       "</g>\n",
       "<g clip-path=\"url(#clip6100)\">\n",
       "<text style=\"fill:#000000; fill-opacity:1; font-family:Arial,Helvetica Neue,Helvetica,sans-serif; font-size:48px; text-anchor:end;\" transform=\"rotate(0, 117.865, 352.79)\" x=\"117.865\" y=\"352.79\">2</text>\n",
       "</g>\n",
       "<g clip-path=\"url(#clip6100)\">\n",
       "<text style=\"fill:#000000; fill-opacity:1; font-family:Arial,Helvetica Neue,Helvetica,sans-serif; font-size:48px; text-anchor:end;\" transform=\"rotate(0, 117.865, 64.7441)\" x=\"117.865\" y=\"64.7441\">3</text>\n",
       "</g>\n",
       "<polyline clip-path=\"url(#clip6102)\" style=\"stroke:#009af9; stroke-width:8; stroke-opacity:1; fill:none\" points=\"\n",
       "  204.437,904.108 225.505,892.979 246.573,881.881 267.641,870.839 288.71,859.878 309.778,849.028 330.846,838.321 351.914,827.79 372.982,817.473 394.05,807.411 \n",
       "  415.118,797.647 436.187,788.228 457.255,779.203 478.323,770.623 499.391,762.54 520.459,755.007 541.527,748.075 562.595,741.795 583.664,736.215 604.732,731.378 \n",
       "  625.8,727.324 646.868,724.085 667.936,721.689 689.004,720.156 710.072,719.497 731.141,719.717 752.209,720.811 773.277,722.767 794.345,725.567 815.413,729.184 \n",
       "  836.481,733.586 857.55,738.734 878.618,744.588 899.686,751.101 920.754,758.225 941.822,765.912 962.89,774.111 983.958,782.772 1005.03,791.848 1026.09,801.291 \n",
       "  1047.16,811.059 1068.23,821.107 1089.3,831.399 1110.37,841.896 1131.44,852.567 1152.5,863.381 1173.57,874.309 1194.64,885.325 1215.71,896.404 1236.78,907.522 \n",
       "  1257.84,918.657 1278.91,929.786 1299.98,940.883 1321.05,951.926 1342.12,962.887 1363.19,973.736 1384.25,984.444 1405.32,994.975 1426.39,1005.29 1447.46,1015.35 \n",
       "  1468.53,1025.12 1489.59,1034.54 1510.66,1043.56 1531.73,1052.14 1552.8,1060.22 1573.87,1067.76 1594.93,1074.69 1616,1080.97 1637.07,1086.55 1658.14,1091.39 \n",
       "  1679.21,1095.44 1700.28,1098.68 1721.34,1101.08 1742.41,1102.61 1763.48,1103.27 1784.55,1103.05 1805.62,1101.95 1826.68,1100 1847.75,1097.2 1868.82,1093.58 \n",
       "  1889.89,1089.18 1910.96,1084.03 1932.03,1078.18 1953.09,1071.66 1974.16,1064.54 1995.23,1056.85 2016.3,1048.65 2037.37,1039.99 2058.43,1030.92 2079.5,1021.47 \n",
       "  2100.57,1011.71 2121.64,1001.66 2142.71,991.366 2163.77,980.869 2184.84,970.197 2205.91,959.384 2226.98,948.456 2248.05,937.44 2269.12,926.361 2290.18,915.243 \n",
       "  \n",
       "  \"/>\n",
       "<polyline clip-path=\"url(#clip6102)\" style=\"stroke:#e26f46; stroke-width:8; stroke-opacity:1; fill:none\" points=\"\n",
       "  204.437,911.382 225.505,911.382 246.573,911.382 267.641,911.382 288.71,911.382 309.778,911.382 330.846,911.382 351.914,911.382 372.982,911.382 394.05,911.382 \n",
       "  415.118,911.382 436.187,911.382 457.255,911.382 478.323,911.382 499.391,911.382 520.459,911.382 541.527,911.382 562.595,911.382 583.664,911.382 604.732,911.382 \n",
       "  625.8,911.382 646.868,911.382 667.936,911.382 689.004,911.382 710.072,911.382 731.141,911.382 752.209,911.382 773.277,911.382 794.345,911.382 815.413,911.382 \n",
       "  836.481,911.382 857.55,911.382 878.618,911.382 899.686,911.382 920.754,911.382 941.822,911.382 962.89,911.382 983.958,911.382 1005.03,911.382 1026.09,911.382 \n",
       "  1047.16,911.382 1068.23,911.382 1089.3,911.382 1110.37,911.382 1131.44,911.382 1152.5,911.382 1173.57,911.382 1194.64,911.382 1215.71,911.382 1236.78,911.382 \n",
       "  1257.84,911.382 1278.91,911.382 1299.98,911.382 1321.05,911.382 1342.12,911.382 1363.19,911.382 1384.25,911.382 1405.32,911.382 1426.39,911.382 1447.46,911.382 \n",
       "  1468.53,911.382 1489.59,911.382 1510.66,911.382 1531.73,911.382 1552.8,911.382 1573.87,911.382 1594.93,911.382 1616,911.382 1637.07,911.382 1658.14,911.382 \n",
       "  1679.21,911.382 1700.28,911.382 1721.34,911.382 1742.41,911.382 1763.48,911.382 1784.55,911.382 1805.62,911.382 1826.68,911.382 1847.75,911.382 1868.82,911.382 \n",
       "  1889.89,911.382 1910.96,911.382 1932.03,911.382 1953.09,911.382 1974.16,911.382 1995.23,911.382 2016.3,911.382 2037.37,911.382 2058.43,911.382 2079.5,911.382 \n",
       "  2100.57,911.382 2121.64,911.382 2142.71,911.382 2163.77,911.382 2184.84,911.382 2205.91,911.382 2226.98,911.382 2248.05,911.382 2269.12,911.382 2290.18,911.382 \n",
       "  \n",
       "  \"/>\n",
       "<polyline clip-path=\"url(#clip6102)\" style=\"stroke:#3da44d; stroke-width:8; stroke-opacity:1; fill:none\" points=\"\n",
       "  204.437,629.097 225.505,640.619 246.573,652.141 267.641,663.663 288.71,675.185 309.778,686.706 330.846,698.228 351.914,709.75 372.982,721.272 394.05,732.794 \n",
       "  415.118,744.316 436.187,755.838 457.255,767.359 478.323,778.881 499.391,790.403 520.459,801.925 541.527,813.447 562.595,824.969 583.664,836.49 604.732,848.012 \n",
       "  625.8,859.534 646.868,871.056 667.936,882.578 689.004,894.1 710.072,905.622 731.141,917.143 752.209,928.665 773.277,940.187 794.345,951.709 815.413,963.231 \n",
       "  836.481,974.753 857.55,986.274 878.618,997.796 899.686,1009.32 920.754,1020.84 941.822,1032.36 962.89,1043.88 983.958,1055.41 1005.03,1066.93 1026.09,1078.45 \n",
       "  1047.16,1089.97 1068.23,1101.49 1089.3,1113.01 1110.37,1124.54 1131.44,1136.06 1152.5,1147.58 1173.57,1159.1 1194.64,1170.62 1215.71,1182.15 1236.78,1193.67 \n",
       "  1257.84,1193.67 1278.91,1182.15 1299.98,1170.62 1321.05,1159.1 1342.12,1147.58 1363.19,1136.06 1384.25,1124.54 1405.32,1113.01 1426.39,1101.49 1447.46,1089.97 \n",
       "  1468.53,1078.45 1489.59,1066.93 1510.66,1055.41 1531.73,1043.88 1552.8,1032.36 1573.87,1020.84 1594.93,1009.32 1616,997.796 1637.07,986.274 1658.14,974.753 \n",
       "  1679.21,963.231 1700.28,951.709 1721.34,940.187 1742.41,928.665 1763.48,917.143 1784.55,905.622 1805.62,894.1 1826.68,882.578 1847.75,871.056 1868.82,859.534 \n",
       "  1889.89,848.012 1910.96,836.49 1932.03,824.969 1953.09,813.447 1974.16,801.925 1995.23,790.403 2016.3,778.881 2037.37,767.359 2058.43,755.838 2079.5,744.316 \n",
       "  2100.57,732.794 2121.64,721.272 2142.71,709.75 2163.77,698.228 2184.84,686.706 2205.91,675.185 2226.98,663.663 2248.05,652.141 2269.12,640.619 2290.18,629.097 \n",
       "  \n",
       "  \"/>\n",
       "<polygon clip-path=\"url(#clip6100)\" points=\"\n",
       "1842.83,312.204 2280.76,312.204 2280.76,130.764 1842.83,130.764 \n",
       "  \" fill=\"#ffffff\" fill-rule=\"evenodd\" fill-opacity=\"1\"/>\n",
       "<polyline clip-path=\"url(#clip6100)\" style=\"stroke:#000000; stroke-width:4; stroke-opacity:1; fill:none\" points=\"\n",
       "  1842.83,312.204 2280.76,312.204 2280.76,130.764 1842.83,130.764 1842.83,312.204 \n",
       "  \"/>\n",
       "<polyline clip-path=\"url(#clip6100)\" style=\"stroke:#009af9; stroke-width:8; stroke-opacity:1; fill:none\" points=\"\n",
       "  1866.83,191.244 2010.83,191.244 \n",
       "  \"/>\n",
       "<g clip-path=\"url(#clip6100)\">\n",
       "<text style=\"fill:#000000; fill-opacity:1; font-family:Arial,Helvetica Neue,Helvetica,sans-serif; font-size:48px; text-anchor:start;\" transform=\"rotate(0, 2034.83, 208.744)\" x=\"2034.83\" y=\"208.744\">No Reinit</text>\n",
       "</g>\n",
       "<polyline clip-path=\"url(#clip6100)\" style=\"stroke:#3da44d; stroke-width:8; stroke-opacity:1; fill:none\" points=\"\n",
       "  1866.83,251.724 2010.83,251.724 \n",
       "  \"/>\n",
       "<g clip-path=\"url(#clip6100)\">\n",
       "<text style=\"fill:#000000; fill-opacity:1; font-family:Arial,Helvetica Neue,Helvetica,sans-serif; font-size:48px; text-anchor:start;\" transform=\"rotate(0, 2034.83, 269.224)\" x=\"2034.83\" y=\"269.224\">Initial</text>\n",
       "</g>\n",
       "</svg>\n"
      ]
     },
     "execution_count": 22,
     "metadata": {},
     "output_type": "execute_result"
    }
   ],
   "source": [
    "plot(xmid,[phi[nt,:],phi0[1,:],phi[1,:]], ylims = (-2,3), label=[\"No Reinit\" \"\" \"Initial\" ],lw=2)"
   ]
  },
  {
   "cell_type": "markdown",
   "metadata": {},
   "source": [
    "##### Post-processing"
   ]
  },
  {
   "cell_type": "code",
   "execution_count": 17,
   "metadata": {},
   "outputs": [
    {
     "name": "stderr",
     "output_type": "stream",
     "text": [
      "┌ Info: Saved animation to \n",
      "│   fn = /Users/tomas/PhD/2019-2020/julia/JuLSM/1D-LSM-sin.gif\n",
      "└ @ Plots /Users/tomas/.julia/packages/Plots/Iuc9S/src/animation.jl:95\n"
     ]
    }
   ],
   "source": [
    "# The intersection of phi with the x axis represents the 1D interface.\n",
    "# phi < 0 inside\n",
    "# phi > 0 outside\n",
    "# Non-reinitialised and reinitialised solutions are plotted for a sin(t) forcing term\n",
    "# Exibits the numerical diffusion of the first order differencing scheme.\n",
    "\n",
    "anim = @animate for i=1:500\n",
    "    plot(xmid,[phi[i,:],phi2[i,:],phi0[1,:],phi[1,:]], ylims = (-2,3), label=[\"No Reinit\" \"Reinit\" \"\" \"Initial\" ],lw=2)\n",
    "end\n",
    "gif(anim, \"/Users/tomas/PhD/2019-2020/julia/JuLSM/1D-LSM-sin.gif\", fps = 10);\n",
    "\n",
    "#plot(xmid,[phi[end,:],phi2[end,:],phi0[1,:],phi[1,:]], ylims = (-2,3), label=[\"No Reinit\" \"Reinit\" \"\" \"Initial\" ],title = \"t = 5\",lw=2)\n",
    "#savefig(\"/Users/tomas/PhD/2019-2020/julia/JuLSM/figures/Phi1D_t5.png\")"
   ]
  }
 ],
 "metadata": {
  "kernelspec": {
   "display_name": "Julia 1.2.0",
   "language": "julia",
   "name": "julia-1.2"
  },
  "language_info": {
   "file_extension": ".jl",
   "mimetype": "application/julia",
   "name": "julia",
   "version": "1.2.0"
  }
 },
 "nbformat": 4,
 "nbformat_minor": 4
}
